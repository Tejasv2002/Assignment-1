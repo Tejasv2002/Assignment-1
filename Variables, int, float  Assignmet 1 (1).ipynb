{
 "cells": [
  {
   "cell_type": "code",
   "execution_count": null,
   "id": "59b3d8f4-8ae0-4656-a3d1-c7d37cc7b860",
   "metadata": {},
   "outputs": [],
   "source": [
    "1. What are the key features of Python?\n",
    "Ans: 1) Easy to learn and use\n",
    "     2) Interpreted language\n",
    "     3) Dynamically typed\n",
    "     4) Extensive standard libraries\n",
    "     5) Supports object-oriented and functional programming\n"
   ]
  },
  {
   "cell_type": "code",
   "execution_count": null,
   "id": "0a4ff6f2-27a4-4dec-b396-6020f0f11071",
   "metadata": {},
   "outputs": [],
   "source": [
    "2. What are the Data Types in Python?\n",
    "Ans: 1) Numeric (int, float, complex)\n",
    "     2) Sequence (str, list, tuple)\n",
    "     3) Set (set, frozenset)\n",
    "     4) Mapping (dict)\n",
    "     5) Boolean (bool)\n",
    "     6) Binary (bytes, bytearray, memoryview)"
   ]
  },
  {
   "cell_type": "code",
   "execution_count": null,
   "id": "c836317a-ff8f-4c6b-bf85-04cd88eebaeb",
   "metadata": {},
   "outputs": [],
   "source": [
    "3. What are local variables and global variables in Python?\n",
    "Ans: 1) Local Variable: Defined inside a function and accessible only there.\n",
    "     2) Global Variable: Declared outside functions and accessible throughout the program.\n"
   ]
  },
  {
   "cell_type": "code",
   "execution_count": null,
   "id": "e41ce390-7f75-4cf2-aa6f-9173fcec5a4e",
   "metadata": {},
   "outputs": [],
   "source": [
    "4. How do you write comments in Python? And Why Comments are important?\n",
    "Ans:  Comment is write by # character\n",
    "      Importance: Used to explain code and improve readability.\n",
    "\n"
   ]
  },
  {
   "cell_type": "code",
   "execution_count": null,
   "id": "3c74504b-b51c-4421-8194-4191ac7808b4",
   "metadata": {},
   "outputs": [],
   "source": [
    "5. How to comment on multiple lines in Python?\n",
    "Ans: to comment on multiple lines in Python we use \"\"\""
   ]
  },
  {
   "cell_type": "code",
   "execution_count": null,
   "id": "2905e0f2-7d38-4422-8062-06cc14009c57",
   "metadata": {},
   "outputs": [],
   "source": [
    "6. What do you mean by Python literals?\n",
    "Ans: Literals are data that appear directly in the code. Types:\n",
    "   String literals: \"Hello\"\n",
    "   Numeric literals: 15, 3.14\n",
    "   Boolean literals: True, False\n",
    "   Special literal: None"
   ]
  },
  {
   "cell_type": "code",
   "execution_count": null,
   "id": "29a0d49f-d386-48e5-9f25-0a67bb57ffca",
   "metadata": {},
   "outputs": [],
   "source": [
    "7. What are the different ways to assign value to variables?\n",
    "Ans: Single assignment: x = 5\n",
    "     Multiple assignment: x = y = z = 10"
   ]
  },
  {
   "cell_type": "code",
   "execution_count": null,
   "id": "7ae2a029-7294-4d99-939b-59a9e7c20e73",
   "metadata": {},
   "outputs": [],
   "source": [
    "8. What are the Escape Characters in Python?\n",
    "Ans: following are the escape characters in python\n",
    "    \\n = new line\n",
    "    \\t = tab, \n",
    "   \\\\ = backslash\n"
   ]
  },
  {
   "cell_type": "code",
   "execution_count": 35,
   "id": "07ed6d08-1879-4d0b-9a62-f68877cf3864",
   "metadata": {},
   "outputs": [
    {
     "name": "stdout",
     "output_type": "stream",
     "text": [
      "My name is Tejas and I am 23 years old\n",
      "My name is Tejas and I am 23 years old\n",
      "Name: Tejas, Age: 23\n",
      "Name: Tejas, Age: 23\n"
     ]
    }
   ],
   "source": [
    "# 9. What are the different ways to perform string formatting? Explain with an example.\n",
    "# 1. Uses placeholders like %s, %d, etc.\n",
    "name = \"Tejas\"\n",
    "age = 23\n",
    "print(\"My name is %s and I am %d years old\" % (name, age))\n",
    "\n",
    "#2. str.format() Method \n",
    "name = \"Tejas\"\n",
    "age = 23\n",
    "print(\"My name is {} and I am {} years old\".format(name, age))\n",
    "\n",
    "# 3.  positional or named arguments:\n",
    "print(\"Name: {0}, Age: {1}\".format(name, age))\n",
    "print(\"Name: {n}, Age: {a}\".format(n=name, a=age))\n",
    "\n",
    "\n",
    "\n"
   ]
  },
  {
   "cell_type": "code",
   "execution_count": null,
   "id": "f5e1e053-61a0-4d2f-b69d-8341c520424c",
   "metadata": {},
   "outputs": [],
   "source": [
    "# 10. Write a program to print every character of a string entered by the user in a new line using a loop\n",
    "# Program to print each character of a string in a new line\n",
    "\n",
    "# Program to print each character of the word 'python' in a new line\n",
    "\n",
    "word = \"python\"\n",
    "\n",
    "for char in word:\n",
    "    print(char)\n"
   ]
  },
  {
   "cell_type": "code",
   "execution_count": 1,
   "id": "2bb96bbc-26a8-407e-ba23-4a610ee42287",
   "metadata": {},
   "outputs": [
    {
     "name": "stdout",
     "output_type": "stream",
     "text": [
      "p\n",
      "y\n",
      "t\n",
      "h\n",
      "o\n",
      "n\n"
     ]
    }
   ],
   "source": [
    "# 10. Write a program to print every character of a string entered by the user in a new line using a loop\n",
    "# Program to print each character of a string in a new line\n",
    "\n",
    "# Program to print each character of the word 'python' in a new line\n",
    "\n",
    "word = \"python\"\n",
    "\n",
    "for char in word:\n",
    "    print(char)\n"
   ]
  },
  {
   "cell_type": "code",
   "execution_count": 25,
   "id": "020143bc-49be-4127-9eaf-201af1555322",
   "metadata": {},
   "outputs": [
    {
     "name": "stdout",
     "output_type": "stream",
     "text": [
      "Length of the string (using len): 16\n",
      "Length of the string (without using len): 16\n"
     ]
    }
   ],
   "source": [
    "# 11. Write a program to find the length of the string \"machine learning\" with and without using the len function.\n",
    "# with length function\n",
    "text = \"machine learning\"\n",
    "length = len(text)\n",
    "print(\"Length of the string (using len):\", length)\n",
    "\n",
    "# without length function\n",
    "# Without using len() function\n",
    "text = \"machine learning\"\n",
    "count = 0\n",
    "for char in text:\n",
    "    count += 1\n",
    "print(\"Length of the string (without using len):\", count)\n"
   ]
  },
  {
   "cell_type": "code",
   "execution_count": 55,
   "id": "978e1d15-5a70-4ead-a762-9937e9ce0936",
   "metadata": {},
   "outputs": [
    {
     "name": "stdout",
     "output_type": "stream",
     "text": [
      "The word 'Python' is present in the sentence.\n"
     ]
    }
   ],
   "source": [
    "# 12. Write a program to check if the word 'orange' is present in the \"This is orange juice\".\n",
    "\n",
    "sentence = \"Python and data science\"\n",
    "if \"Python\" in sentence:\n",
    "    print(\"The word 'Python' is present in the sentence.\")\n",
    "else:\n",
    "    print(\"The word 'Python' is not present in the sentence.\")"
   ]
  },
  {
   "cell_type": "code",
   "execution_count": 63,
   "id": "e380e3d4-dd34-4d90-9095-c1d96ad53e82",
   "metadata": {},
   "outputs": [
    {
     "name": "stdout",
     "output_type": "stream",
     "text": [
      "Vowels: 7\n",
      "Consonants: 13\n",
      "Digits: 0\n",
      "Special characters: 3\n"
     ]
    }
   ],
   "source": [
    "# 13. Write a Python program to count the number of vowels, consonants, digits and special\n",
    "# Input string\n",
    "string = \"python and data science\"\n",
    "\n",
    "vowels = consonants = digits = special = 0\n",
    "\n",
    "for char in string:\n",
    "    if char.isalpha():\n",
    "        if char in 'aeiouAEIOU': \n",
    "            vowels += 1\n",
    "        else:\n",
    "            consonants += 1 \n",
    "    elif char.isdigit(): \n",
    "        digits += 1\n",
    "    else:  \n",
    "        special += 1\n",
    "\n",
    "# Print the results\n",
    "print(\"Vowels:\", vowels)\n",
    "print(\"Consonants:\", consonants)\n",
    "print(\"Digits:\", digits)\n",
    "print(\"Special characters:\", special)\n",
    "\n"
   ]
  },
  {
   "cell_type": "code",
   "execution_count": 72,
   "id": "5b1d74d5-e3d0-48cb-823c-d838c907b3fa",
   "metadata": {},
   "outputs": [
    {
     "name": "stdout",
     "output_type": "stream",
     "text": [
      "Uppercase letters: 0\n",
      "Lowercase letters: 20\n",
      "Digits: 0\n",
      "Special characters: 3\n"
     ]
    }
   ],
   "source": [
    "# 14. Write a Python program to count Uppercase, Lowercase, special characters, and numeric values in a given string.\n",
    "# Given string\n",
    "    \n",
    "string = \"python and data science\"\n",
    "uppercase = 0\n",
    "lowercase = 0\n",
    "digits = 0\n",
    "special = 0\n",
    "\n",
    "for char in string:\n",
    "    uppercase += char.isupper()\n",
    "    lowercase += char.islower()\n",
    "    digits += char.isdigit()\n",
    "    special += not (char.isupper() or char.islower() or char.isdigit())\n",
    "\n",
    "print(\"Uppercase letters:\", uppercase)\n",
    "print(\"Lowercase letters:\", lowercase)\n",
    "print(\"Digits:\", digits)\n",
    "print(\"Special characters:\", special)\n",
    "\n"
   ]
  },
  {
   "cell_type": "code",
   "execution_count": 76,
   "id": "37527d92-237c-4768-9fae-f66ce6603cda",
   "metadata": {},
   "outputs": [
    {
     "name": "stdout",
     "output_type": "stream",
     "text": [
      "String after removing consonants: eo, ae a oo a\n"
     ]
    }
   ],
   "source": [
    "# 15. Write a program to make a new string with all the consonants deleted from the string \"Hello, have a good day\".\n",
    "# Original string\n",
    "text = \"Hello, have a good day\"\n",
    "\n",
    "vowels = \"aeiouAEIOU\"\n",
    "\n",
    "result = ''.join([char for char in text if char.lower() in vowels or not char.isalpha()])\n",
    "\n",
    "print(\"String after removing consonants:\", result)\n",
    "\n"
   ]
  },
  {
   "cell_type": "code",
   "execution_count": 80,
   "id": "ca668de5-7926-4b52-bf88-c92b235e38f8",
   "metadata": {},
   "outputs": [
    {
     "name": "stdout",
     "output_type": "stream",
     "text": [
      "Original string: PythonProgramming\n",
      "String after removing character at index 6: Pythonrogramming\n"
     ]
    }
   ],
   "source": [
    "#16. Write a Python program to remove the nth index character from a non-empty string.\n",
    "# Sample string\n",
    "text = \"PythonProgramming\"\n",
    "\n",
    "# Index to remove\n",
    "n = 6\n",
    "\n",
    "new_text = text[:n] + text[n+1:]\n",
    "\n",
    "print(\"Original string:\", text)\n",
    "print(f\"String after removing character at index {n}:\", new_text)\n"
   ]
  },
  {
   "cell_type": "code",
   "execution_count": 82,
   "id": "ee0fd63f-2f84-4528-b161-22fb6a18ee9b",
   "metadata": {},
   "outputs": [
    {
     "name": "stdout",
     "output_type": "stream",
     "text": [
      "Original string: python\n",
      "String after swapping first and last characters: nythop\n"
     ]
    }
   ],
   "source": [
    "# 17. Write a Python program to change a given string to a new string where the first and last characters have been exchanged.\n",
    "text = \"python\"\n",
    "\n",
    "if len(text) >= 2:\n",
    "    new_text = text[-1] + text[1:-1] + text[0]\n",
    "else:\n",
    "    new_text = text  \n",
    "print(\"Original string:\", text)\n",
    "print(\"String after swapping first and last characters:\", new_text)\n",
    "\n"
   ]
  },
  {
   "cell_type": "code",
   "execution_count": 88,
   "id": "8667be90-43e1-4d99-a18f-bb2d28cc9767",
   "metadata": {},
   "outputs": [
    {
     "name": "stdout",
     "output_type": "stream",
     "text": [
      "Word occurrences:\n",
      "python : 2\n",
      "is : 2\n",
      "easy : 1\n",
      "and : 1\n",
      "popular : 1\n"
     ]
    }
   ],
   "source": [
    "# 18. Write a Python program to count the occurrences of each word in a given sentence.\n",
    "# Input sentence\n",
    "sentence = \"python is easy and python is popular\"\n",
    "\n",
    "words = sentence.split()\n",
    "\n",
    "word_count = {}\n",
    "\n",
    "for word in words:\n",
    "    word_count[word] = word_count.get(word, 0) + 1\n",
    "\n",
    "print(\"Word occurrences:\")\n",
    "for word, count in word_count.items():\n",
    "    print(word, \":\", count)\n",
    "\n"
   ]
  },
  {
   "cell_type": "code",
   "execution_count": 112,
   "id": "53e947ae-cf39-4d86-8f0d-f09e4bd64c07",
   "metadata": {},
   "outputs": [
    {
     "name": "stdout",
     "output_type": "stream",
     "text": [
      "The character t appear t times\n"
     ]
    }
   ],
   "source": [
    "# 19. How do you count the occurrence of a given character in a string?\n",
    "text = \"Python and data science\"\n",
    "\n",
    "char = \"t\"\n",
    "\n",
    "count = text.count(char)\n",
    "print(f\"The character {char} appear {char} times\")\n",
    "\n",
    "\n"
   ]
  },
  {
   "cell_type": "code",
   "execution_count": 118,
   "id": "220d62a9-f8d5-497a-ac41-0ea23a75a98f",
   "metadata": {},
   "outputs": [
    {
     "name": "stdout",
     "output_type": "stream",
     "text": [
      "Last 10 characters: ta science\n"
     ]
    }
   ],
   "source": [
    "#20. Write a program to find the last 10 characters of a string.\n",
    "text = \"python and data science\"\n",
    "\n",
    "text2 = text[-10:]\n",
    "\n",
    "print(\"Last 10 characters:\", text2)\n"
   ]
  },
  {
   "cell_type": "code",
   "execution_count": 1,
   "id": "e36bdb8c-4aa6-4be3-8f2d-1fa7c0437ebc",
   "metadata": {},
   "outputs": [
    {
     "name": "stdout",
     "output_type": "stream",
     "text": [
      "Updated string: python and data science\n"
     ]
    }
   ],
   "source": [
    "#21. WAP to convert a given string to all uppercase if it contains at least 2 uppercase characters in the first 4 characters.\n",
    "# Read input\n",
    "# Given string\n",
    "text = \"python and data science\"\n",
    "\n",
    "if sum(1 for char in text[:4] if char.isupper()) >= 2:\n",
    "    text = text.upper()\n",
    "\n",
    "print(\"Updated string:\", text)\n"
   ]
  },
  {
   "cell_type": "code",
   "execution_count": 5,
   "id": "ca0c6b8c-eaa2-45dc-bdf9-0a55ee96b35e",
   "metadata": {},
   "outputs": [
    {
     "name": "stdout",
     "output_type": "stream",
     "text": [
      "Original string with newlines:\n",
      "Hello\n",
      "World\n",
      "This is a test.\n",
      "\n",
      "String after removing newlines:\n",
      "Hello World This is a test. \n"
     ]
    }
   ],
   "source": [
    "# 22. Write a Python program to remove a new line from a string.\n",
    "\n",
    "text = \"Hello\\nWorld\\nThis is a test.\\n\"\n",
    "\n",
    "cleaned_text = text.replace(\"\\n\", \" \")\n",
    "\n",
    "print(\"Original string with newlines:\")\n",
    "print(text)\n",
    "print(\"String after removing newlines:\")\n",
    "print(cleaned_text)\n"
   ]
  },
  {
   "cell_type": "code",
   "execution_count": 15,
   "id": "1a989b4a-878f-44bf-8dcd-2736393a0613",
   "metadata": {},
   "outputs": [
    {
     "name": "stdout",
     "output_type": "stream",
     "text": [
      "Original string: 32.054,23\n",
      "String after swapping commas and dots: 32,054.23\n"
     ]
    }
   ],
   "source": [
    "# 23. Write a Python program to swap commas and dots in a string ● Sample string: \"32.054,23\" >> Expected Output: \"32,054.23\"\n",
    "# Sample string\n",
    "text = \"32.054,23\"\n",
    "\n",
    "# Swap commas and dots\n",
    "swapped_text = text.replace('.', '#').replace(',', '.').replace('#', ',')\n",
    "\n",
    "print(\"Original string:\", text)\n",
    "print(\"String after swapping commas and dots:\", swapped_text)\n"
   ]
  },
  {
   "cell_type": "code",
   "execution_count": 37,
   "id": "dfc09b12-a860-4ac4-a449-8f1e3060bbd0",
   "metadata": {},
   "outputs": [
    {
     "name": "stdout",
     "output_type": "stream",
     "text": [
      "The first repeated character is: r\n"
     ]
    }
   ],
   "source": [
    "# 24. Write a Python program to find the first repeated character in a given string\n",
    "# Given string\n",
    "text = \"programming\"\n",
    "\n",
    "text2 = set()\n",
    "\n",
    "for char in text:\n",
    "    if char in text2:\n",
    "        text3 = char\n",
    "        break\n",
    "    text2.add(char)\n",
    "print(\"The first repeated character is:\", text3)\n"
   ]
  },
  {
   "cell_type": "code",
   "execution_count": 39,
   "id": "199f73dd-ddb8-451b-bd62-aa374ed633e9",
   "metadata": {},
   "outputs": [
    {
     "name": "stdout",
     "output_type": "stream",
     "text": [
      "The second most repeated word is: is\n"
     ]
    }
   ],
   "source": [
    "# 25. Write a Python program to find the second most repeated word in a given string\n",
    "from collections import Counter\n",
    "\n",
    "# Given string\n",
    "text = \"python is easy and python is powerful\"\n",
    "\n",
    "words = text.split()\n",
    "\n",
    "word_counts = Counter(words)\n",
    "\n",
    "second_most_common = word_counts.most_common(2)[1][0]\n",
    "\n",
    "print(\"The second most repeated word is:\", second_most_common)\n",
    "\n"
   ]
  },
  {
   "cell_type": "code",
   "execution_count": 43,
   "id": "98bb51fc-443f-4e40-ad3f-cc8f885e16c6",
   "metadata": {},
   "outputs": [
    {
     "name": "stdout",
     "output_type": "stream",
     "text": [
      "Even digits: 2\n",
      "Odd digits: 3\n"
     ]
    }
   ],
   "source": [
    "# 26. Python program to Count Even and Odd numbers in a string.\n",
    "\n",
    "s = \"a1b2c3d4e5\"\n",
    "\n",
    "even_count = 0\n",
    "odd_count = 0\n",
    "\n",
    "for char in s:\n",
    "    if char.isdigit():\n",
    "        if int(char) % 2 == 0:\n",
    "            even_count += 1\n",
    "        else:\n",
    "            odd_count += 1\n",
    "\n",
    "print(\"Even digits:\", even_count)\n",
    "print(\"Odd digits:\", odd_count)\n"
   ]
  },
  {
   "cell_type": "code",
   "execution_count": 49,
   "id": "06755861-ecad-4d63-b02e-a3ef1e7de320",
   "metadata": {},
   "outputs": [
    {
     "name": "stdout",
     "output_type": "stream",
     "text": [
      "True\n",
      "False\n",
      "False\n"
     ]
    }
   ],
   "source": [
    "# 27. How do you check if a string contains only digits?\n",
    "# using isdigit() function\n",
    "# example \n",
    "str = \"12345\"\n",
    "print(str.isdigit()) \n",
    "\n",
    "str = \"12345t\"\n",
    "print(str.isdigit()) \n",
    "\n",
    "str = \" \"\n",
    "print(str.isdigit()) "
   ]
  },
  {
   "cell_type": "code",
   "execution_count": 55,
   "id": "bf67e93b-94bd-454a-a552-94dab5ab4be2",
   "metadata": {},
   "outputs": [
    {
     "name": "stdout",
     "output_type": "stream",
     "text": [
      " and data science\n",
      "pyhon and daa science\n"
     ]
    }
   ],
   "source": [
    "# 28. How do you remove a given character/word from String?\n",
    "text = 'python and data science'\n",
    "text2 = text.replace('python', '')\n",
    "print(text2)\n",
    "text3 = text.replace('t', '')\n",
    "print(text3)"
   ]
  },
  {
   "cell_type": "code",
   "execution_count": 69,
   "id": "6a7fd064-8ead-4b5b-bca6-8cdd74bf2606",
   "metadata": {},
   "outputs": [
    {
     "name": "stdout",
     "output_type": "stream",
     "text": [
      "2468\n"
     ]
    }
   ],
   "source": [
    "# 29. Write a Python program to remove the characters which have odd index values of a given string\n",
    "str1 = '123456789'\n",
    "new_string = str1[1::2]\n",
    "print(new_string)\n"
   ]
  },
  {
   "cell_type": "code",
   "execution_count": 75,
   "id": "7b542e86-256e-412e-a564-fb3280585f30",
   "metadata": {},
   "outputs": [
    {
     "name": "stdout",
     "output_type": "stream",
     "text": [
      "Result: datascience\n"
     ]
    }
   ],
   "source": [
    "# 30. Write a Python function to reverse a string if its length is a multiple of 5\n",
    "def reverse_if_multiple_of_5(s):\n",
    "    if len(s) % 5 == 0:\n",
    "        return s[::-1]\n",
    "    else:\n",
    "        return s\n",
    "\n",
    "# Example usage\n",
    "string = \"datascience\"\n",
    "result = reverse_if_multiple_of_5(string)\n",
    "print(\"Result:\", result)\n",
    "\n",
    "\n"
   ]
  },
  {
   "cell_type": "code",
   "execution_count": 99,
   "id": "8f356621-8861-4871-b361-cf0c5c98d831",
   "metadata": {},
   "outputs": [
    {
     "name": "stdout",
     "output_type": "stream",
     "text": [
      "Formatted percentage: 5.0%\n"
     ]
    }
   ],
   "source": [
    "# 31. Write a Python program to format a number with a percentage(0.05 >> 5%)\n",
    "# Given number\n",
    "number = 0.05\n",
    "\n",
    "text2 = f\"{num * 100}%\"\n",
    "\n",
    "print(\"Formatted percentage:\", text2)\n"
   ]
  },
  {
   "cell_type": "code",
   "execution_count": 121,
   "id": "0c0bfac8-68cc-461d-969f-a12769f0b636",
   "metadata": {},
   "outputs": [
    {
     "name": "stdout",
     "output_type": "stream",
     "text": [
      "science data and python\n"
     ]
    }
   ],
   "source": [
    "# 32. Write a Python program to reverse words in a string\n",
    "Text = 'python and data science'\n",
    "text2 = ' '.join(Text.split()[::-1])\n",
    "print(text2)"
   ]
  },
  {
   "cell_type": "code",
   "execution_count": 129,
   "id": "53172826-fc9a-4c55-980c-6a35b2a68d6d",
   "metadata": {},
   "outputs": [
    {
     "name": "stdout",
     "output_type": "stream",
     "text": [
      "PyTHON AND dATA SCIeNCE\n"
     ]
    }
   ],
   "source": [
    "# 33. Write a Python program to swap cases of a given string\n",
    "Text = 'pYthon and Data sciEnce'\n",
    "text2 = Text.swapcase()\n",
    "print(text2)"
   ]
  },
  {
   "cell_type": "code",
   "execution_count": 137,
   "id": "979de432-7e61-4fd7-8664-448496f25afc",
   "metadata": {},
   "outputs": [
    {
     "name": "stdout",
     "output_type": "stream",
     "text": [
      "text after removing spaces: Pythonanddatascience\n"
     ]
    }
   ],
   "source": [
    "# 34. Write a Python program to remove spaces from a given string\n",
    "Text = 'Python and data science'\n",
    "text2 = Text.replace(' ', '')\n",
    "print('text after removing spaces:', text2)"
   ]
  },
  {
   "cell_type": "code",
   "execution_count": 143,
   "id": "8cdd6288-7f1e-405b-a112-31fa70c62344",
   "metadata": {},
   "outputs": [
    {
     "name": "stdout",
     "output_type": "stream",
     "text": [
      "Unique characters in text is: mnpgoarthyi\n"
     ]
    }
   ],
   "source": [
    "# 35. Write a Python program to remove duplicate characters of a given string\n",
    "text = \"pythonprogramming\"\n",
    "text1 = \"\".join(set(text))\n",
    "print('Unique characters in text is:', text1)\n"
   ]
  },
  {
   "cell_type": "code",
   "execution_count": 151,
   "id": "c8bb956e-d30b-423a-89c9-6027730e76a0",
   "metadata": {},
   "outputs": [
    {
     "name": "stdout",
     "output_type": "stream",
     "text": [
      "Area of the circle with radius 7 is: 153.93804002589985\n"
     ]
    }
   ],
   "source": [
    "# 36. Write a Python Program to find the area of a circle\n",
    "import math\n",
    "\n",
    "def area_of_circle(radius):\n",
    "    return math.pi * radius **2\n",
    "\n",
    "radius = 7\n",
    "\n",
    "area = area_of_circle(radius)\n",
    "\n",
    "print(\"Area of the circle with radius\", radius, \"is:\", area)\n",
    "\n"
   ]
  },
  {
   "cell_type": "code",
   "execution_count": 153,
   "id": "0523d530-31c5-4569-833e-0ffbca570d00",
   "metadata": {},
   "outputs": [
    {
     "name": "stdout",
     "output_type": "stream",
     "text": [
      "Sum of squares of first 5 natural numbers is: 55\n"
     ]
    }
   ],
   "source": [
    "# 37. Write a Python Program to find the Sum of squares of first n natural numbers\n",
    "\n",
    "n = 5\n",
    "\n",
    "sum_squares = 0\n",
    "for i in range(1, n + 1):\n",
    "    sum_squares += i ** 2\n",
    "\n",
    "print(f\"Sum of squares of first {n} natural numbers is:\", sum_squares)\n",
    "\n"
   ]
  },
  {
   "cell_type": "code",
   "execution_count": 157,
   "id": "dc019a76-6583-42b9-9f46-a046a578f497",
   "metadata": {},
   "outputs": [
    {
     "name": "stdout",
     "output_type": "stream",
     "text": [
      "Sum of cubes of first 5 natural numbers is: 225\n"
     ]
    }
   ],
   "source": [
    "# 38. Write a Python Program to find the Sum of cubes of first n natural numbers\n",
    "n = 5\n",
    "\n",
    "sum_cubes = 0\n",
    "for i in range(1, n + 1):\n",
    "    sum_cubes += i ** 3\n",
    "\n",
    "print(f\"Sum of cubes of first {n} natural numbers is:\", sum_cubes)\n"
   ]
  },
  {
   "cell_type": "code",
   "execution_count": 159,
   "id": "88f2862e-7f45-4ba6-8be3-247cc343c6d5",
   "metadata": {},
   "outputs": [
    {
     "name": "stdout",
     "output_type": "stream",
     "text": [
      "Simple Interest: 150.0\n",
      "Compound Interest: 157.62500000000023\n"
     ]
    }
   ],
   "source": [
    "# 39. Write a Python Program to find simple interest and compound interest\n",
    "def simple_interest(principal, rate, time):\n",
    "    return (principal * rate * time) / 100\n",
    "\n",
    "def compound_interest(principal, rate, time):\n",
    "    return principal * ((1 + rate / 100) ** time) - principal\n",
    "\n",
    "principal = 1000  \n",
    "rate = 5          \n",
    "time = 3         \n",
    "\n",
    "si = simple_interest(principal, rate, time)\n",
    "\n",
    "ci = compound_interest(principal, rate, time)\n",
    "\n",
    "print(f\"Simple Interest: {si}\")\n",
    "print(f\"Compound Interest: {ci}\")\n",
    "\n"
   ]
  },
  {
   "cell_type": "code",
   "execution_count": 169,
   "id": "68043441-3968-4da0-8381-d320ca08ed23",
   "metadata": {},
   "outputs": [
    {
     "name": "stdout",
     "output_type": "stream",
     "text": [
      "29 is a prime number.\n"
     ]
    }
   ],
   "source": [
    "# 40. Write a Python program to check whether a number is Prime or not\n",
    "def is_prime(num):\n",
    "    if num <= 1:\n",
    "        return False  # Numbers less than or equal to 1 are not prime\n",
    "    for i in range(2, int(num**0.5) + 1):  \n",
    "        if num % i == 0:  \n",
    "            return False\n",
    "    return True  \n",
    "\n",
    "number = 29  \n",
    "if is_prime(number):\n",
    "    print(f\"{number} is a prime number.\")\n",
    "else:\n",
    "    print(f\"{number} is not a prime number.\")\n"
   ]
  },
  {
   "cell_type": "code",
   "execution_count": null,
   "id": "77c83ddb-b2f6-4da6-a7a6-a96c3eda2fda",
   "metadata": {},
   "outputs": [],
   "source": []
  }
 ],
 "metadata": {
  "kernelspec": {
   "display_name": "Python [conda env:base] *",
   "language": "python",
   "name": "conda-base-py"
  },
  "language_info": {
   "codemirror_mode": {
    "name": "ipython",
    "version": 3
   },
   "file_extension": ".py",
   "mimetype": "text/x-python",
   "name": "python",
   "nbconvert_exporter": "python",
   "pygments_lexer": "ipython3",
   "version": "3.12.7"
  }
 },
 "nbformat": 4,
 "nbformat_minor": 5
}
