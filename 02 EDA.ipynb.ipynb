{
 "cells": [
  {
   "cell_type": "markdown",
   "id": "22d34a8e-7ce4-488d-80a2-906d047d5e1f",
   "metadata": {},
   "source": [
    "### Exploratory Data Analysis – Customer Feedback"
   ]
  },
  {
   "cell_type": "markdown",
   "id": "21220c39-a72c-4b3c-bbf5-5f7ff00a207d",
   "metadata": {},
   "source": [
    "This notebook performs basic EDA on `customer_reviews_500.csv` located in the `data/raw/` folder.\n"
   ]
  },
  {
   "cell_type": "code",
   "execution_count": 3,
   "id": "d0de30d4-3bc8-4361-a91a-52d58fbf021d",
   "metadata": {},
   "outputs": [],
   "source": [
    "# 📦 Import Required Libraries\n",
    "import pandas as pd\n",
    "import matplotlib.pyplot as plt\n",
    "import seaborn as sns\n",
    "\n",
    "# For inline plotting\n",
    "%matplotlib inline\n"
   ]
  },
  {
   "cell_type": "code",
   "execution_count": 11,
   "id": "3cc25be9-fca4-4b83-ae42-f095c9bcbca5",
   "metadata": {},
   "outputs": [
    {
     "data": {
      "text/html": [
       "<div>\n",
       "<style scoped>\n",
       "    .dataframe tbody tr th:only-of-type {\n",
       "        vertical-align: middle;\n",
       "    }\n",
       "\n",
       "    .dataframe tbody tr th {\n",
       "        vertical-align: top;\n",
       "    }\n",
       "\n",
       "    .dataframe thead th {\n",
       "        text-align: right;\n",
       "    }\n",
       "</style>\n",
       "<table border=\"1\" class=\"dataframe\">\n",
       "  <thead>\n",
       "    <tr style=\"text-align: right;\">\n",
       "      <th></th>\n",
       "      <th>review_id</th>\n",
       "      <th>customer_name</th>\n",
       "      <th>product</th>\n",
       "      <th>rating</th>\n",
       "      <th>review_text</th>\n",
       "    </tr>\n",
       "  </thead>\n",
       "  <tbody>\n",
       "    <tr>\n",
       "      <th>0</th>\n",
       "      <td>1</td>\n",
       "      <td>Neha</td>\n",
       "      <td>Speaker</td>\n",
       "      <td>1</td>\n",
       "      <td>Very poor quality, stopped working.</td>\n",
       "    </tr>\n",
       "    <tr>\n",
       "      <th>1</th>\n",
       "      <td>2</td>\n",
       "      <td>Sneha</td>\n",
       "      <td>Keyboard</td>\n",
       "      <td>2</td>\n",
       "      <td>Low battery life and heating issues.</td>\n",
       "    </tr>\n",
       "    <tr>\n",
       "      <th>2</th>\n",
       "      <td>3</td>\n",
       "      <td>Priya</td>\n",
       "      <td>Monitor</td>\n",
       "      <td>3</td>\n",
       "      <td>Average performance, nothing great.</td>\n",
       "    </tr>\n",
       "    <tr>\n",
       "      <th>3</th>\n",
       "      <td>4</td>\n",
       "      <td>Rohit</td>\n",
       "      <td>Headphones</td>\n",
       "      <td>1</td>\n",
       "      <td>Low battery life and heating issues.</td>\n",
       "    </tr>\n",
       "    <tr>\n",
       "      <th>4</th>\n",
       "      <td>5</td>\n",
       "      <td>Priya</td>\n",
       "      <td>Headphones</td>\n",
       "      <td>3</td>\n",
       "      <td>Product is fine but delivery was late.</td>\n",
       "    </tr>\n",
       "  </tbody>\n",
       "</table>\n",
       "</div>"
      ],
      "text/plain": [
       "   review_id customer_name     product  rating  \\\n",
       "0          1          Neha     Speaker       1   \n",
       "1          2         Sneha    Keyboard       2   \n",
       "2          3         Priya     Monitor       3   \n",
       "3          4         Rohit  Headphones       1   \n",
       "4          5         Priya  Headphones       3   \n",
       "\n",
       "                              review_text  \n",
       "0     Very poor quality, stopped working.  \n",
       "1    Low battery life and heating issues.  \n",
       "2     Average performance, nothing great.  \n",
       "3    Low battery life and heating issues.  \n",
       "4  Product is fine but delivery was late.  "
      ]
     },
     "execution_count": 11,
     "metadata": {},
     "output_type": "execute_result"
    }
   ],
   "source": [
    "# 📥 Load the dataset\n",
    "df = pd.read_csv(r\"C:\\Users\\DELL\\Downloads\\customer_reviews_500.csv\")\n",
    "df.head()\n"
   ]
  },
  {
   "cell_type": "code",
   "execution_count": 13,
   "id": "770bdadf-788c-405d-9869-6b6a5d5e6795",
   "metadata": {},
   "outputs": [
    {
     "name": "stdout",
     "output_type": "stream",
     "text": [
      "Shape of data: (500, 5)\n",
      "<class 'pandas.core.frame.DataFrame'>\n",
      "RangeIndex: 500 entries, 0 to 499\n",
      "Data columns (total 5 columns):\n",
      " #   Column         Non-Null Count  Dtype \n",
      "---  ------         --------------  ----- \n",
      " 0   review_id      500 non-null    int64 \n",
      " 1   customer_name  500 non-null    object\n",
      " 2   product        500 non-null    object\n",
      " 3   rating         500 non-null    int64 \n",
      " 4   review_text    500 non-null    object\n",
      "dtypes: int64(2), object(3)\n",
      "memory usage: 19.7+ KB\n"
     ]
    }
   ],
   "source": [
    "# 🔍 Basic Information\n",
    "print(\"Shape of data:\", df.shape)\n",
    "df.info()\n"
   ]
  },
  {
   "cell_type": "code",
   "execution_count": 15,
   "id": "a9843b01-7697-409b-8b9c-23e6e4aaf622",
   "metadata": {},
   "outputs": [
    {
     "data": {
      "text/html": [
       "<div>\n",
       "<style scoped>\n",
       "    .dataframe tbody tr th:only-of-type {\n",
       "        vertical-align: middle;\n",
       "    }\n",
       "\n",
       "    .dataframe tbody tr th {\n",
       "        vertical-align: top;\n",
       "    }\n",
       "\n",
       "    .dataframe thead th {\n",
       "        text-align: right;\n",
       "    }\n",
       "</style>\n",
       "<table border=\"1\" class=\"dataframe\">\n",
       "  <thead>\n",
       "    <tr style=\"text-align: right;\">\n",
       "      <th></th>\n",
       "      <th>review_id</th>\n",
       "      <th>customer_name</th>\n",
       "      <th>product</th>\n",
       "      <th>rating</th>\n",
       "      <th>review_text</th>\n",
       "    </tr>\n",
       "  </thead>\n",
       "  <tbody>\n",
       "    <tr>\n",
       "      <th>count</th>\n",
       "      <td>500.000000</td>\n",
       "      <td>500</td>\n",
       "      <td>500</td>\n",
       "      <td>500.000000</td>\n",
       "      <td>500</td>\n",
       "    </tr>\n",
       "    <tr>\n",
       "      <th>unique</th>\n",
       "      <td>NaN</td>\n",
       "      <td>10</td>\n",
       "      <td>10</td>\n",
       "      <td>NaN</td>\n",
       "      <td>15</td>\n",
       "    </tr>\n",
       "    <tr>\n",
       "      <th>top</th>\n",
       "      <td>NaN</td>\n",
       "      <td>Rahul</td>\n",
       "      <td>Speaker</td>\n",
       "      <td>NaN</td>\n",
       "      <td>Battery life and performance are top-notch.</td>\n",
       "    </tr>\n",
       "    <tr>\n",
       "      <th>freq</th>\n",
       "      <td>NaN</td>\n",
       "      <td>56</td>\n",
       "      <td>60</td>\n",
       "      <td>NaN</td>\n",
       "      <td>47</td>\n",
       "    </tr>\n",
       "    <tr>\n",
       "      <th>mean</th>\n",
       "      <td>250.500000</td>\n",
       "      <td>NaN</td>\n",
       "      <td>NaN</td>\n",
       "      <td>2.950000</td>\n",
       "      <td>NaN</td>\n",
       "    </tr>\n",
       "    <tr>\n",
       "      <th>std</th>\n",
       "      <td>144.481833</td>\n",
       "      <td>NaN</td>\n",
       "      <td>NaN</td>\n",
       "      <td>1.442102</td>\n",
       "      <td>NaN</td>\n",
       "    </tr>\n",
       "    <tr>\n",
       "      <th>min</th>\n",
       "      <td>1.000000</td>\n",
       "      <td>NaN</td>\n",
       "      <td>NaN</td>\n",
       "      <td>1.000000</td>\n",
       "      <td>NaN</td>\n",
       "    </tr>\n",
       "    <tr>\n",
       "      <th>25%</th>\n",
       "      <td>125.750000</td>\n",
       "      <td>NaN</td>\n",
       "      <td>NaN</td>\n",
       "      <td>2.000000</td>\n",
       "      <td>NaN</td>\n",
       "    </tr>\n",
       "    <tr>\n",
       "      <th>50%</th>\n",
       "      <td>250.500000</td>\n",
       "      <td>NaN</td>\n",
       "      <td>NaN</td>\n",
       "      <td>3.000000</td>\n",
       "      <td>NaN</td>\n",
       "    </tr>\n",
       "    <tr>\n",
       "      <th>75%</th>\n",
       "      <td>375.250000</td>\n",
       "      <td>NaN</td>\n",
       "      <td>NaN</td>\n",
       "      <td>4.000000</td>\n",
       "      <td>NaN</td>\n",
       "    </tr>\n",
       "    <tr>\n",
       "      <th>max</th>\n",
       "      <td>500.000000</td>\n",
       "      <td>NaN</td>\n",
       "      <td>NaN</td>\n",
       "      <td>5.000000</td>\n",
       "      <td>NaN</td>\n",
       "    </tr>\n",
       "  </tbody>\n",
       "</table>\n",
       "</div>"
      ],
      "text/plain": [
       "         review_id customer_name  product      rating  \\\n",
       "count   500.000000           500      500  500.000000   \n",
       "unique         NaN            10       10         NaN   \n",
       "top            NaN         Rahul  Speaker         NaN   \n",
       "freq           NaN            56       60         NaN   \n",
       "mean    250.500000           NaN      NaN    2.950000   \n",
       "std     144.481833           NaN      NaN    1.442102   \n",
       "min       1.000000           NaN      NaN    1.000000   \n",
       "25%     125.750000           NaN      NaN    2.000000   \n",
       "50%     250.500000           NaN      NaN    3.000000   \n",
       "75%     375.250000           NaN      NaN    4.000000   \n",
       "max     500.000000           NaN      NaN    5.000000   \n",
       "\n",
       "                                        review_text  \n",
       "count                                           500  \n",
       "unique                                           15  \n",
       "top     Battery life and performance are top-notch.  \n",
       "freq                                             47  \n",
       "mean                                            NaN  \n",
       "std                                             NaN  \n",
       "min                                             NaN  \n",
       "25%                                             NaN  \n",
       "50%                                             NaN  \n",
       "75%                                             NaN  \n",
       "max                                             NaN  "
      ]
     },
     "execution_count": 15,
     "metadata": {},
     "output_type": "execute_result"
    }
   ],
   "source": [
    "# 📊 Data Overview and Summary\n",
    "df.describe(include='all')\n"
   ]
  },
  {
   "cell_type": "code",
   "execution_count": 17,
   "id": "89331a2f-97a5-44bf-a8d6-1292290a14f8",
   "metadata": {},
   "outputs": [
    {
     "data": {
      "text/plain": [
       "review_id        0\n",
       "customer_name    0\n",
       "product          0\n",
       "rating           0\n",
       "review_text      0\n",
       "dtype: int64"
      ]
     },
     "execution_count": 17,
     "metadata": {},
     "output_type": "execute_result"
    }
   ],
   "source": [
    "# ✅ Null Values Check\n",
    "df.isnull().sum()\n"
   ]
  },
  {
   "cell_type": "code",
   "execution_count": 19,
   "id": "82d225ed-0c12-44e4-b103-fa7195363847",
   "metadata": {},
   "outputs": [
    {
     "data": {
      "image/png": "[encoded data removed]",
      "text/plain": [
       "<Figure size 640x480 with 1 Axes>"
      ]
     },
     "metadata": {},
     "output_type": "display_data"
    }
   ],
   "source": [
    "# 📈 Ratings Distribution\n",
    "sns.countplot(data=df, x=\"rating\")\n",
    "plt.title(\"Ratings Count\")\n",
    "plt.xlabel(\"Rating\")\n",
    "plt.ylabel(\"Count\")\n",
    "plt.show()\n"
   ]
  },
  {
   "cell_type": "code",
   "execution_count": null,
   "id": "e715312a-04ad-4671-94fb-7b5ffd994034",
   "metadata": {},
   "outputs": [],
   "source": []
  }
 ],
 "metadata": {
  "kernelspec": {
   "display_name": "Python [conda env:base] *",
   "language": "python",
   "name": "conda-base-py"
  },
  "language_info": {
   "codemirror_mode": {
    "name": "ipython",
    "version": 3
   },
   "file_extension": ".py",
   "mimetype": "text/x-python",
   "name": "python",
   "nbconvert_exporter": "python",
   "pygments_lexer": "ipython3",
   "version": "3.12.7"
  }
 },
 "nbformat": 4,
 "nbformat_minor": 5
}
